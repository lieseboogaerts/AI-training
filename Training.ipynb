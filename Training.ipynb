{
  "metadata": {
    "kernelspec": {
      "name": "xpython",
      "display_name": "Python 3.13 (XPython)",
      "language": "python"
    },
    "language_info": {
      "file_extension": ".py",
      "mimetype": "text/x-python",
      "name": "python",
      "version": "3.13.1"
    }
  },
  "nbformat_minor": 5,
  "nbformat": 4,
  "cells": [
    {
      "id": "f1ca2d05-6830-4ede-9cb3-5ffeee33f53d",
      "cell_type": "code",
      "source": "import numpy as np\nimport matplotlib\nimport matplotlib.pyplot as plt\nimport pandas as pd\nimport seaborn as sb\n\nfrom sklearn.ensemble import RandomForestClassifier\nfrom sklearn.preprocessing import StandardScaler, MinMaxScaler, RobustScaler, LabelEncoder, OneHotEncoder\nfrom sklearn.model_selection import train_test_split\nfrom sklearn.neighbors import KNeighborsClassifier\nfrom sklearn.metrics import accuracy_score \nfrom sklearn.compose import ColumnTransformer\nfrom sklearn.linear_model import LogisticRegression\nfrom sklearn.svm import SVC\n\nfrom xgboost import XGBClassifier",
      "metadata": {
        "trusted": true
      },
      "outputs": [],
      "execution_count": null
    },
    {
      "id": "7b1ba066-21ea-44bf-bb6e-dee1ea168ee8",
      "cell_type": "markdown",
      "source": "## Load the dataset",
      "metadata": {}
    },
    {
      "id": "cf8197a4-56a6-4158-ae0a-54c305f01c32",
      "cell_type": "code",
      "source": "excel_file = 'Rice_Cammeo_Osmancik.xlsx'\nraw_data = pd.read_excel(excel_file)\n\ninput_features = ['Area', 'Perimeter', 'Major_Axis_Length', 'Minor_Axis_Length', 'Eccentricity', 'Convex_Area', 'Extent']\noutput_feature = ['Class']\ninput_data = raw_data[input_features]\noutput_data = raw_data[output_feature]",
      "metadata": {
        "trusted": true
      },
      "outputs": [],
      "execution_count": null
    },
    {
      "id": "358e62ca-6e24-48d0-b56b-9c701940882a",
      "cell_type": "code",
      "source": "numeric_features = input_data.select_dtypes('number').columns\n\nnumeric_cols = [col for col in input_data.columns if col in numeric_features]\n\npreprocessor= ColumnTransformer(\n    transformers=[('num', StandardScaler(), numeric_cols)])\n\ninput_data = preprocessor.fit_transform(dataset)",
      "metadata": {
        "trusted": true
      },
      "outputs": [],
      "execution_count": null
    },
    {
      "id": "6db26bb9-d2f8-4ae9-ad20-53c161abea2b",
      "cell_type": "code",
      "source": "encoder = LabelEncoder()\noutput_data = output_data.copy()\noutput_data['encoded_rice'] = encoder.fit_transform(output_data['Class'])",
      "metadata": {
        "trusted": true
      },
      "outputs": [],
      "execution_count": null
    },
    {
      "id": "3376fecb-704a-480a-8fe8-25b7b42cafae",
      "cell_type": "code",
      "source": "x_train, x_test, y_train, y_test = train_test_split(input_data, output_data['encoded_rice'], test_size = 0.2, random_state = 66, stratify=output_data['encoded_rice'])\nprint('Training data shape:' , x_train.shape)\nprint('Testing data shape:' , x_test.shape)",
      "metadata": {
        "trusted": true
      },
      "outputs": [],
      "execution_count": null
    },
    {
      "id": "88a96ce6-fdaf-4fc6-9b94-d50208124214",
      "cell_type": "code",
      "source": "rfr =  RandomForestClassifier(n_estimators=100)\nrfr.fit(x_train, y_train)\n\nrfr_pred_class = rfr.predict(x_test)\n\naccuracy = accuracy_score(y_test, rfr_pred_class)*100\nprint(accuracy)\n\n",
      "metadata": {
        "trusted": true
      },
      "outputs": [],
      "execution_count": null
    },
    {
      "id": "ff2f3104-1465-48bc-84bc-e4fb616752ce",
      "cell_type": "code",
      "source": "num_classes = len(np.unique(y_train))\nxgb = XGBClassifier(\n    n_estimators=100,\n    use_label_encoder=False,\n    objective='binary:logistic',\n    num_class=num_classes\n)\nxgb.fit(x_train, y_train)\n\nxgb_pred_class = xgb_rp.predict(x_test)\n\naccuracy = accuracy_score(y_test, xgb_pred_class)*100\nprint(accuracy)",
      "metadata": {
        "trusted": true
      },
      "outputs": [],
      "execution_count": null
    },
    {
      "id": "8f7e5473-9a17-4022-bb21-14d63fdf22b7",
      "cell_type": "code",
      "source": "knn = KNeighborsClassifier(n_neighbors = 5, weights = 'distance')\nknn.fit(x_train, y_train)\n\nknn_pred_class = knn.predict(x_test)\n\naccuracy = accuracy_score(y_test, knn_pred_class)*100\nprint(accuracy)",
      "metadata": {
        "trusted": true
      },
      "outputs": [],
      "execution_count": null
    },
    {
      "id": "f1b07ea0-1a04-42c2-a57e-844bfbcc0fe4",
      "cell_type": "code",
      "source": "lr = LogisticRegression(class_weight='balanced', max_iter=1000, solver='lbfgs')\nlr.fit(x_train, y_train)\n\nlr_pred_class = lr.predict(x_test)\naccuracy = accuracy_score(y_test, lr_pred_class)*100\nprint(accuracy)",
      "metadata": {
        "trusted": true
      },
      "outputs": [],
      "execution_count": null
    },
    {
      "id": "886e2e48-0f32-4788-a5d6-92b38603c5be",
      "cell_type": "code",
      "source": "svc = SVC(kernel='rbf', probability=True, class_weight='balanced')\nsvc.fit(x_train, y_train)\n\nsvc_pred_class = svc.predict(x_test)\naccuracy = accuracy_score(y_test, svc_pred_class)*100\nprint(accuracy)",
      "metadata": {
        "trusted": true
      },
      "outputs": [],
      "execution_count": null
    }
  ]
}